{
 "cells": [
  {
   "cell_type": "markdown",
   "metadata": {},
   "source": [
    "## Data Loading and Image Preprocessing\n",
    "\n",
    "Load Train Data and Basic Preprocessing - mask, blur, segment and sharpen"
   ]
  },
  {
   "cell_type": "code",
   "execution_count": 1,
   "metadata": {
    "collapsed": true
   },
   "outputs": [],
   "source": [
    "import numpy as np \n",
    "import pandas as pd \n",
    "import os\n",
    "from glob import glob\n",
    "import cv2"
   ]
  },
  {
   "cell_type": "code",
   "execution_count": 2,
   "metadata": {
    "collapsed": true
   },
   "outputs": [],
   "source": [
    "scaleSize = 299  #resize figures to \n",
    "seed = 0        #random seed"
   ]
  },
  {
   "cell_type": "code",
   "execution_count": 3,
   "metadata": {
    "collapsed": true
   },
   "outputs": [],
   "source": [
    "# Covert ClassName to Integer method\n",
    "def label_s2n(x):\n",
    "    return {\n",
    "        'Black-grass': 0,\n",
    "        'Charlock': 1,\n",
    "        'Cleavers': 2,\n",
    "        'Common Chickweed': 3,\n",
    "        'Common wheat': 4, \n",
    "        'Fat Hen': 5,\n",
    "        'Loose Silky-bent': 6,\n",
    "        'Maize': 7,\n",
    "        'Scentless Mayweed': 8,\n",
    "        'Shepherds Purse': 9,\n",
    "        'Small-flowered Cranesbill': 10,\n",
    "        'Sugar beet': 11\n",
    "    }.get(x, 12)\n",
    "\n",
    "def label_n2s(x):\n",
    "    return {\n",
    "        0: 'Black-grass',\n",
    "        1: 'Charlock',\n",
    "        2: 'Cleavers',\n",
    "        3: 'Common Chickweed',\n",
    "        4: 'Common wheat', \n",
    "        5: 'Fat Hen',\n",
    "        6: 'Loose Silky-bent',\n",
    "        7: 'Maize',\n",
    "        8: 'Scentless Mayweed',\n",
    "        9: 'Shepherds Purse',\n",
    "        10: 'Small-flowered Cranesbill',\n",
    "        11: 'Sugar beet'\n",
    "    }.get(x, 'None')"
   ]
  },
  {
   "cell_type": "code",
   "execution_count": 5,
   "metadata": {},
   "outputs": [
    {
     "name": "stdout",
     "output_type": "stream",
     "text": [
      "4750/4750\r"
     ]
    }
   ],
   "source": [
    "CATEGORIES = ['Black-grass', 'Charlock', 'Cleavers', 'Common Chickweed', 'Common wheat', 'Fat Hen', 'Loose Silky-bent',\n",
    "             'Maize', 'Scentless Mayweed', 'Shepherds Purse', 'Small-flowered Cranesbill', 'Sugar beet']\n",
    "\n",
    "path='Dataset/train/*/*.png'\n",
    "files = glob(path)\n",
    "\n",
    "trainImage = []\n",
    "trainLabel = []\n",
    "j = 1\n",
    "num = len(files)\n",
    "\n",
    "for img in files:\n",
    "    if (j >= num):\n",
    "        print(str(j)+\"/\"+str(num), end=\"\\r\")\n",
    "    trainImage.append(cv2.resize(cv2.imread(img), (scaleSize, scaleSize)))\n",
    "    trainLabel.append(img.split('/')[-2])   #Depends on the path of dataset, MODIFY\n",
    "    j = j + 1\n",
    "    \n",
    "trainImage = np.asarray(trainImage)\n",
    "trainLabel = pd.DataFrame(trainLabel)"
   ]
  },
  {
   "cell_type": "code",
   "execution_count": 6,
   "metadata": {
    "collapsed": true
   },
   "outputs": [],
   "source": [
    "# Covert Categories into Label Numbers\n",
    "trainLabels = []\n",
    "for i in range(trainLabel.shape[0]):\n",
    "    trainLabels.append(label_s2n(trainLabel[0][i]))"
   ]
  },
  {
   "cell_type": "code",
   "execution_count": 7,
   "metadata": {
    "collapsed": true
   },
   "outputs": [],
   "source": [
    "np.save(os.path.join(os.getcwd(),'trainImage.npy'), trainImage)\n",
    "np.save(os.path.join(os.getcwd(),'trainLabels.npy'), trainLabels)"
   ]
  },
  {
   "cell_type": "code",
   "execution_count": 8,
   "metadata": {
    "collapsed": true
   },
   "outputs": [],
   "source": [
    "clearTrainImage = []\n",
    "maskTrainImage = []\n",
    "blurredTrainImage = []\n",
    "segmentTrainImage = []\n",
    "sharpTrainImage = []\n",
    "examples = []\n",
    "getEx = True\n",
    "for image in trainImage:\n",
    "    \n",
    "    #Convert to HSV\n",
    "    hsvImage = cv2.cvtColor(image, cv2.COLOR_BGR2HSV)\n",
    "    \n",
    "    #Create mask\n",
    "    sensitivity = 35\n",
    "    green_lb = (60 - sensitivity, 100, 50) #lower bound of green range\n",
    "    green_ub = (60 + sensitivity, 255, 255) #upper bound of green range\n",
    "    mask = cv2.inRange(hsvImage, green_lb, green_ub)\n",
    "    kernel = cv2.getStructuringElement(cv2.MORPH_ELLIPSE, (11,11))\n",
    "    mask = cv2.morphologyEx(mask, cv2.MORPH_CLOSE, kernel)\n",
    "    \n",
    "    #segment image\n",
    "    segmentImage = cv2.bitwise_and(image, image, mask = mask)\n",
    "    \n",
    "    #sharpen\n",
    "    blurredImage = cv2.GaussianBlur(segmentImage, (5,5), 0)\n",
    "    sharpImage = cv2.addWeighted(segmentImage, 1.5, blurredImage, -0.5, 0)\n",
    "    maskTrainImage.append(mask)\n",
    "    segmentTrainImage.append(segmentImage)\n",
    "    blurredTrainImage.append(blurredImage)\n",
    "    sharpTrainImage.append(sharpImage)"
   ]
  },
  {
   "cell_type": "code",
   "execution_count": 9,
   "metadata": {
    "collapsed": true
   },
   "outputs": [],
   "source": [
    "np.save(os.path.join(os.getcwd(),'maskTrainImage.npy'), maskTrainImage)\n",
    "np.save(os.path.join(os.getcwd(),'segmentTrainImage.npy'), segmentTrainImage)\n",
    "np.save(os.path.join(os.getcwd(),'blurredTrainImage.npy'), blurredTrainImage)\n",
    "np.save(os.path.join(os.getcwd(),'sharpTrainImage.npy'), sharpTrainImage)"
   ]
  },
  {
   "cell_type": "code",
   "execution_count": 10,
   "metadata": {},
   "outputs": [
    {
     "name": "stdout",
     "output_type": "stream",
     "text": [
      "794/794\r"
     ]
    }
   ],
   "source": [
    "path='Dataset/test/*.png'\n",
    "files = glob(path)\n",
    "\n",
    "testImage = []\n",
    "\n",
    "j = 1\n",
    "num = len(files)\n",
    "\n",
    "for img in files:\n",
    "    if (j >= num):\n",
    "        print(str(j)+\"/\"+str(num), end=\"\\r\")\n",
    "    testImage.append(cv2.resize(cv2.imread(img), (scaleSize, scaleSize)))\n",
    "    j = j + 1\n",
    "    \n",
    "testImage = np.asarray(testImage)"
   ]
  },
  {
   "cell_type": "code",
   "execution_count": 11,
   "metadata": {
    "collapsed": true
   },
   "outputs": [],
   "source": [
    "np.save(os.path.join(os.getcwd(),'testImage.npy'), testImage)"
   ]
  },
  {
   "cell_type": "code",
   "execution_count": 12,
   "metadata": {
    "collapsed": true
   },
   "outputs": [],
   "source": [
    "clearTestImage = []\n",
    "maskTestImage = []\n",
    "blurredTestImage = []\n",
    "segmentTestImage = []\n",
    "sharpTestImage = []\n",
    "examples = []\n",
    "getEx = True\n",
    "for image in testImage:\n",
    "    \n",
    "    #Convert to HSV\n",
    "    hsvImage = cv2.cvtColor(image, cv2.COLOR_BGR2HSV)\n",
    "    \n",
    "    #Create mask\n",
    "    sensitivity = 35\n",
    "    green_lb = (60 - sensitivity, 100, 50) #lower bound of green range\n",
    "    green_ub = (60 + sensitivity, 255, 255) #upper bound of green range\n",
    "    mask = cv2.inRange(hsvImage, green_lb, green_ub)\n",
    "    kernel = cv2.getStructuringElement(cv2.MORPH_ELLIPSE, (11,11))\n",
    "    mask = cv2.morphologyEx(mask, cv2.MORPH_CLOSE, kernel)\n",
    "    \n",
    "    #segment image\n",
    "    segmentImage = cv2.bitwise_and(image, image, mask = mask)\n",
    "    \n",
    "    #sharpen\n",
    "    blurredImage = cv2.GaussianBlur(segmentImage, (5,5), 0)\n",
    "    sharpImage = cv2.addWeighted(segmentImage, 1.5, blurredImage, -0.5, 0)\n",
    "    maskTestImage.append(mask)\n",
    "    segmentTestImage.append(segmentImage)\n",
    "    blurredTestImage.append(blurredImage)\n",
    "    sharpTestImage.append(sharpImage)"
   ]
  },
  {
   "cell_type": "code",
   "execution_count": 13,
   "metadata": {
    "collapsed": true
   },
   "outputs": [],
   "source": [
    "np.save(os.path.join(os.getcwd(),'sharpTestImage.npy'), sharpTestImage)"
   ]
  }
 ],
 "metadata": {
  "kernelspec": {
   "display_name": "Python [default]",
   "language": "python",
   "name": "python3"
  },
  "language_info": {
   "codemirror_mode": {
    "name": "ipython",
    "version": 3
   },
   "file_extension": ".py",
   "mimetype": "text/x-python",
   "name": "python",
   "nbconvert_exporter": "python",
   "pygments_lexer": "ipython3",
   "version": "3.5.2"
  }
 },
 "nbformat": 4,
 "nbformat_minor": 2
}
