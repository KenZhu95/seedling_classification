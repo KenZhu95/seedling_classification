{
 "cells": [
  {
   "cell_type": "markdown",
   "metadata": {},
   "source": [
    "## Seedling - ResNet"
   ]
  },
  {
   "cell_type": "code",
   "execution_count": 1,
   "metadata": {},
   "outputs": [
    {
     "name": "stderr",
     "output_type": "stream",
     "text": [
      "/anaconda/envs/py35/lib/python3.5/site-packages/h5py/__init__.py:36: FutureWarning: Conversion of the second argument of issubdtype from `float` to `np.floating` is deprecated. In future, it will be treated as `np.float64 == np.dtype(float).type`.\n",
      "  from ._conv import register_converters as _register_converters\n",
      "Using TensorFlow backend.\n"
     ]
    }
   ],
   "source": [
    "import numpy as np \n",
    "import pandas as pd \n",
    "import os\n",
    "from keras.utils.np_utils import to_categorical\n",
    "from keras import optimizers\n",
    "from keras.models import Sequential, Model\n",
    "from keras.layers import Dense, Dropout, Flatten,GlobalAveragePooling2D\n",
    "from keras.layers import Conv2D, MaxPooling2D, BatchNormalization\n",
    "from keras.callbacks import EarlyStopping, ModelCheckpoint, ReduceLROnPlateau\n",
    "from keras.preprocessing.image import ImageDataGenerator\n",
    "from sklearn.model_selection import train_test_split\n",
    "from keras.applications import *\n",
    "from keras.applications.resnet50 import preprocess_input\n",
    "from sklearn.model_selection import StratifiedShuffleSplit"
   ]
  },
  {
   "cell_type": "code",
   "execution_count": 2,
   "metadata": {},
   "outputs": [
    {
     "name": "stdout",
     "output_type": "stream",
     "text": [
      "Numbers of sharpTrainImage images 4750\n",
      "Numbers of sharpTestImage images 794\n",
      "Numbers of train labels 4750\n"
     ]
    }
   ],
   "source": [
    "sharpTrainImage = np.load(os.path.join(os.getcwd(),'Image224/sharpTrainImage.npy'))\n",
    "sharpTestImage = np.load(os.path.join(os.getcwd(),'Image224/sharpTestImage.npy'))\n",
    "trainLabels = np.load(os.path.join(os.getcwd(),'Image224/trainLabels.npy'))\n",
    "\n",
    "print(\"Numbers of sharpTrainImage images\", len(sharpTrainImage))\n",
    "print(\"Numbers of sharpTestImage images\", len(sharpTestImage))\n",
    "print(\"Numbers of train labels\", len(trainLabels))"
   ]
  },
  {
   "cell_type": "code",
   "execution_count": 3,
   "metadata": {},
   "outputs": [
    {
     "data": {
      "text/plain": [
       "(224, 224, 3)"
      ]
     },
     "execution_count": 3,
     "metadata": {},
     "output_type": "execute_result"
    }
   ],
   "source": [
    "sharpTrainImage[0].shape"
   ]
  },
  {
   "cell_type": "code",
   "execution_count": 4,
   "metadata": {},
   "outputs": [],
   "source": [
    "# one - hot coding\n",
    "trainLabels = to_categorical(trainLabels, 12)"
   ]
  },
  {
   "cell_type": "code",
   "execution_count": 5,
   "metadata": {},
   "outputs": [
    {
     "data": {
      "text/plain": [
       "(4750, 12)"
      ]
     },
     "execution_count": 5,
     "metadata": {},
     "output_type": "execute_result"
    }
   ],
   "source": [
    "trainLabels.shape"
   ]
  },
  {
   "cell_type": "markdown",
   "metadata": {},
   "source": [
    "## No validation set"
   ]
  },
  {
   "cell_type": "code",
   "execution_count": 6,
   "metadata": {},
   "outputs": [],
   "source": [
    "x_train, y_train = sharpTrainImage, trainLabels\n",
    "\n",
    "#x_train, x_valid, y_train, y_valid = train_test_split(x_train, y_train, test_size=0.01, random_state=42)\n",
    "\n",
    "# sss = StratifiedShuffleSplit(n_splits=1, test_size=0.16, random_state=42) # Want a balanced split for all the classes\n",
    "\n",
    "# for train_index, test_index in sss.split(sharpTrainImage, trainLabels):\n",
    "#     print(\"Using {} for training and {} for validation\".format(len(train_index), len(test_index)))\n",
    "#     x_train, x_valid = sharpTrainImage[train_index], sharpTrainImage[test_index]\n",
    "#     y_train, y_valid = trainLabels[train_index], trainLabels[test_index]"
   ]
  },
  {
   "cell_type": "code",
   "execution_count": 7,
   "metadata": {},
   "outputs": [],
   "source": [
    "datagen = ImageDataGenerator(\n",
    "                            preprocessing_function = preprocess_input,\n",
    "                            rotation_range=360.,\n",
    "                            width_shift_range=0.3,\n",
    "                            height_shift_range=0.3,\n",
    "                            zoom_range=0.3,\n",
    "                            horizontal_flip=True, \n",
    "                            vertical_flip=True)"
   ]
  },
  {
   "cell_type": "code",
   "execution_count": 13,
   "metadata": {},
   "outputs": [],
   "source": [
    "epochs = 50\n",
    "learning_rate = 0.0001\n",
    "batch_size = 32\n",
    "dim = 224\n",
    "\n",
    "weights = os.path.join('', 'weights.h5')\n",
    "\n",
    "#  Callbacks only conditioned on metric `val_loss` which is not available. Available metrics are: lr,acc,loss\n",
    "# callbacks = [ EarlyStopping(monitor='val_loss', patience=5, verbose=0), \n",
    "#               ModelCheckpoint(weights, monitor='val_loss', save_best_only=True, verbose=0),\n",
    "#               ReduceLROnPlateau(monitor='val_loss', factor=0.1, patience=2, verbose=0, mode='auto', epsilon=0.0001, cooldown=0, min_lr=0)]"
   ]
  },
  {
   "cell_type": "code",
   "execution_count": 14,
   "metadata": {},
   "outputs": [],
   "source": [
    "base_model = ResNet50(input_shape=(dim, dim, 3), include_top=False, weights='imagenet', pooling='avg') \n",
    "# Average pooling reduces output dimensions\n",
    "x = base_model.output\n",
    "x = Dense(dim, activation='relu')(x)\n",
    "x = Dropout(0.5)(x)\n",
    "predictions = Dense(12, activation='softmax')(x)\n",
    "\n",
    "model = Model(inputs=base_model.input, outputs=predictions)"
   ]
  },
  {
   "cell_type": "code",
   "execution_count": 15,
   "metadata": {},
   "outputs": [],
   "source": [
    "model.compile(loss='categorical_crossentropy', optimizer=optimizers.Adam(lr=learning_rate), metrics=['accuracy'])"
   ]
  },
  {
   "cell_type": "code",
   "execution_count": 16,
   "metadata": {
    "scrolled": false
   },
   "outputs": [
    {
     "name": "stdout",
     "output_type": "stream",
     "text": [
      "Epoch 1/50\n",
      "149/148 [==============================] - 151s 1s/step - loss: 0.9172 - acc: 0.7010\n",
      "Epoch 2/50\n",
      "149/148 [==============================] - 143s 961ms/step - loss: 0.4384 - acc: 0.8539\n",
      "Epoch 3/50\n",
      "149/148 [==============================] - 143s 962ms/step - loss: 0.3398 - acc: 0.8857\n",
      "Epoch 4/50\n",
      "149/148 [==============================] - 144s 964ms/step - loss: 0.2960 - acc: 0.9030\n",
      "Epoch 5/50\n",
      "149/148 [==============================] - 144s 964ms/step - loss: 0.2632 - acc: 0.9077\n",
      "Epoch 6/50\n",
      "149/148 [==============================] - 143s 961ms/step - loss: 0.2519 - acc: 0.9164\n",
      "Epoch 7/50\n",
      "149/148 [==============================] - 144s 964ms/step - loss: 0.2453 - acc: 0.9151\n",
      "Epoch 8/50\n",
      "149/148 [==============================] - 143s 961ms/step - loss: 0.2224 - acc: 0.9180\n",
      "Epoch 9/50\n",
      "149/148 [==============================] - 144s 963ms/step - loss: 0.2032 - acc: 0.9274\n",
      "Epoch 10/50\n",
      "149/148 [==============================] - 144s 964ms/step - loss: 0.2010 - acc: 0.9305\n",
      "Epoch 11/50\n",
      "149/148 [==============================] - 143s 960ms/step - loss: 0.1855 - acc: 0.9320\n",
      "Epoch 12/50\n",
      "149/148 [==============================] - 143s 960ms/step - loss: 0.1823 - acc: 0.9341\n",
      "Epoch 13/50\n",
      "149/148 [==============================] - 144s 963ms/step - loss: 0.1675 - acc: 0.9401\n",
      "Epoch 14/50\n",
      "149/148 [==============================] - 144s 963ms/step - loss: 0.1774 - acc: 0.9385\n",
      "Epoch 15/50\n",
      "149/148 [==============================] - 143s 960ms/step - loss: 0.1569 - acc: 0.9452\n",
      "Epoch 16/50\n",
      "149/148 [==============================] - 143s 962ms/step - loss: 0.1581 - acc: 0.9440\n",
      "Epoch 17/50\n",
      "149/148 [==============================] - 143s 962ms/step - loss: 0.1509 - acc: 0.9483\n",
      "Epoch 18/50\n",
      "149/148 [==============================] - 143s 960ms/step - loss: 0.1631 - acc: 0.9427\n",
      "Epoch 19/50\n",
      "149/148 [==============================] - 143s 962ms/step - loss: 0.1553 - acc: 0.9464\n",
      "Epoch 20/50\n",
      "149/148 [==============================] - 143s 961ms/step - loss: 0.1521 - acc: 0.9485\n",
      "Epoch 21/50\n",
      "149/148 [==============================] - 144s 965ms/step - loss: 0.1446 - acc: 0.9452\n",
      "Epoch 22/50\n",
      "149/148 [==============================] - 143s 962ms/step - loss: 0.1458 - acc: 0.9469\n",
      "Epoch 23/50\n",
      "149/148 [==============================] - 144s 963ms/step - loss: 0.1443 - acc: 0.9523\n",
      "Epoch 24/50\n",
      "149/148 [==============================] - 143s 962ms/step - loss: 0.1144 - acc: 0.9583\n",
      "Epoch 25/50\n",
      "149/148 [==============================] - 143s 961ms/step - loss: 0.1347 - acc: 0.9551\n",
      "Epoch 26/50\n",
      "149/148 [==============================] - 143s 961ms/step - loss: 0.1237 - acc: 0.9569\n",
      "Epoch 27/50\n",
      "149/148 [==============================] - 144s 967ms/step - loss: 0.1173 - acc: 0.9597\n",
      "Epoch 28/50\n",
      "149/148 [==============================] - 144s 969ms/step - loss: 0.1360 - acc: 0.9515\n",
      "Epoch 29/50\n",
      "149/148 [==============================] - 143s 961ms/step - loss: 0.1332 - acc: 0.9551\n",
      "Epoch 30/50\n",
      "149/148 [==============================] - 143s 963ms/step - loss: 0.1148 - acc: 0.9604\n",
      "Epoch 31/50\n",
      "149/148 [==============================] - 143s 962ms/step - loss: 0.1453 - acc: 0.9494\n",
      "Epoch 32/50\n",
      "149/148 [==============================] - 143s 960ms/step - loss: 0.1072 - acc: 0.9627\n",
      "Epoch 33/50\n",
      "149/148 [==============================] - 143s 961ms/step - loss: 0.1371 - acc: 0.9535\n",
      "Epoch 34/50\n",
      "149/148 [==============================] - 143s 960ms/step - loss: 0.1306 - acc: 0.9546\n",
      "Epoch 35/50\n",
      "149/148 [==============================] - 144s 964ms/step - loss: 0.1152 - acc: 0.9576\n",
      "Epoch 36/50\n",
      "149/148 [==============================] - 144s 966ms/step - loss: 0.1183 - acc: 0.9600\n",
      "Epoch 37/50\n",
      "149/148 [==============================] - 143s 962ms/step - loss: 0.1045 - acc: 0.9625\n",
      "Epoch 38/50\n",
      "149/148 [==============================] - 143s 959ms/step - loss: 0.1105 - acc: 0.9601\n",
      "Epoch 39/50\n",
      "149/148 [==============================] - 143s 963ms/step - loss: 0.1083 - acc: 0.9614\n",
      "Epoch 40/50\n",
      "149/148 [==============================] - 143s 962ms/step - loss: 0.1015 - acc: 0.9611\n",
      "Epoch 41/50\n",
      "149/148 [==============================] - 143s 962ms/step - loss: 0.0895 - acc: 0.9668\n",
      "Epoch 42/50\n",
      "149/148 [==============================] - 143s 962ms/step - loss: 0.1103 - acc: 0.9618\n",
      "Epoch 43/50\n",
      "149/148 [==============================] - 143s 960ms/step - loss: 0.1021 - acc: 0.9656\n",
      "Epoch 44/50\n",
      "149/148 [==============================] - 143s 959ms/step - loss: 0.1180 - acc: 0.9607\n",
      "Epoch 45/50\n",
      "149/148 [==============================] - 143s 962ms/step - loss: 0.1125 - acc: 0.9582\n",
      "Epoch 46/50\n",
      "149/148 [==============================] - 143s 962ms/step - loss: 0.0858 - acc: 0.9684\n",
      "Epoch 47/50\n",
      "149/148 [==============================] - 143s 961ms/step - loss: 0.1008 - acc: 0.9639\n",
      "Epoch 48/50\n",
      "149/148 [==============================] - 143s 961ms/step - loss: 0.0990 - acc: 0.9650\n",
      "Epoch 49/50\n",
      "149/148 [==============================] - 143s 963ms/step - loss: 0.1045 - acc: 0.9626\n",
      "Epoch 50/50\n",
      "149/148 [==============================] - 143s 963ms/step - loss: 0.0898 - acc: 0.9664\n",
      "running time:  1:59:44.817751\n"
     ]
    }
   ],
   "source": [
    "import datetime\n",
    "local_start = datetime.datetime.now()\n",
    "# ------ TRAINING ------\n",
    "model.fit_generator(datagen.flow(x_train, y_train, batch_size=batch_size),\n",
    "                    steps_per_epoch=len(x_train)/batch_size, \n",
    "                    #validation_data=datagen.flow(x_valid, y_valid, batch_size=batch_size), \n",
    "                    #validation_steps=len(x_valid)/batch_size,\n",
    "                    #callbacks=callbacks,\n",
    "                    epochs=epochs,\n",
    "                    verbose=1)\n",
    "\n",
    "print('running time: ', datetime.datetime.now()-local_start) "
   ]
  },
  {
   "cell_type": "code",
   "execution_count": 17,
   "metadata": {},
   "outputs": [],
   "source": [
    "model.save('model_resnet50_NoValidation.h5')"
   ]
  },
  {
   "cell_type": "code",
   "execution_count": 19,
   "metadata": {},
   "outputs": [],
   "source": [
    "def label_n2s(x):\n",
    "    return {\n",
    "        0: 'Black-grass',\n",
    "        1: 'Charlock',\n",
    "        2: 'Cleavers',\n",
    "        3: 'Common Chickweed',\n",
    "        4: 'Common wheat', \n",
    "        5: 'Fat Hen',\n",
    "        6: 'Loose Silky-bent',\n",
    "        7: 'Maize',\n",
    "        8: 'Scentless Mayweed',\n",
    "        9: 'Shepherds Purse',\n",
    "        10: 'Small-flowered Cranesbill',\n",
    "        11: 'Sugar beet'\n",
    "    }.get(x, 'None')"
   ]
  },
  {
   "cell_type": "code",
   "execution_count": 24,
   "metadata": {},
   "outputs": [
    {
     "name": "stdout",
     "output_type": "stream",
     "text": [
      "Process:  0\n",
      "Process:  100\n",
      "Process:  200\n",
      "Process:  300\n",
      "Process:  400\n",
      "Process:  500\n",
      "Process:  600\n",
      "Process:  700\n"
     ]
    }
   ],
   "source": [
    "predLabel = []\n",
    "for i in range(len(sharpTestImage)):\n",
    "    images = datagen.flow(np.expand_dims(sharpTestImage[i],axis=0))\n",
    "    pred = np.zeros((1,12))\n",
    "    for j,img in enumerate(images):\n",
    "        pred += model.predict(img)\n",
    "        if j > 100:\n",
    "            break\n",
    "    label = np.argmax(pred)\n",
    "    predLabel.append(label_n2s(label))\n",
    "    if (i%100 == 0):\n",
    "        print(\"Process: \",i)"
   ]
  },
  {
   "cell_type": "code",
   "execution_count": 25,
   "metadata": {},
   "outputs": [
    {
     "data": {
      "text/plain": [
       "794"
      ]
     },
     "execution_count": 25,
     "metadata": {},
     "output_type": "execute_result"
    }
   ],
   "source": [
    "len(predLabel)"
   ]
  },
  {
   "cell_type": "code",
   "execution_count": 26,
   "metadata": {},
   "outputs": [],
   "source": [
    "df_test = pd.read_csv('sample_submission.csv')\n",
    "testName = np.load(os.path.join(os.getcwd(),'Image/testName.npy'))\n",
    "df_test['file'] = testName\n",
    "df_test['species'] = predLabel\n",
    "df_test.to_csv('submission_resnet50_NoValidation.csv', index=False)"
   ]
  }
 ],
 "metadata": {
  "kernelspec": {
   "display_name": "Python [default]",
   "language": "python",
   "name": "python3"
  },
  "language_info": {
   "codemirror_mode": {
    "name": "ipython",
    "version": 3
   },
   "file_extension": ".py",
   "mimetype": "text/x-python",
   "name": "python",
   "nbconvert_exporter": "python",
   "pygments_lexer": "ipython3",
   "version": "3.5.4"
  }
 },
 "nbformat": 4,
 "nbformat_minor": 2
}
